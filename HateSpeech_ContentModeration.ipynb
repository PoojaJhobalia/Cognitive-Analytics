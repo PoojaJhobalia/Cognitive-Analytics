{
  "nbformat": 4,
  "nbformat_minor": 0,
  "metadata": {
    "colab": {
      "provenance": []
    },
    "kernelspec": {
      "name": "python3",
      "display_name": "Python 3"
    }
  },
  "cells": [
    {
      "cell_type": "markdown",
      "metadata": {
        "id": "jblSTQI72ZT4"
      },
      "source": [
        "# Lab Assignment 02 - Textual Content Moderation Using Cognitive Services and Python!\n",
        "\n",
        "In this lab assignment, we will be using one of the **Microsoft Azure Cognitive Services** to build a system that can automatically detect inappropriate content such as profanity, hate speech, threats, racism, etc. in written text. Recall that **cognitive computing** involves using artificial intelligence technologies to build systems to perform tasks that could previously only be accomplished by the human mind. The detection of inappropriate content in written text is an excellent example of such a task, and as such we will building a **cognitive computing system** in this lab assignment.\n",
        "\n",
        "By the time you have completed this lab, you will have achieved all of the following learning objectives:\n",
        "\n",
        "## Learning Objectives\n",
        "\n",
        "1. Understand what Azure Cognitive Services are.\n",
        "2. Have the ability to configure and provision cognitive services as resources on the Microsoft Azure platform.\n",
        "3. Understand the purpose of an application programming interface (API).\n",
        "4. Use Python to connect to and interact with the Content Moderator cognitive service via its API.\n",
        "5. Have the ability to iteratively send written comments to the Content Moderator cognitive service and process the results to determine if the written comments are inappropriate or obscene.\n",
        "6. Analyze the results obtained from the Content Moderator cognitive service and compare the performance of those results to labels assigned by human judges.\n",
        "7. Continue to develop skills working with and analyzing data in Python.\n",
        "\n",
        "## About Azure Cognitive Services\n",
        "\n",
        "According to Microsoft:\n",
        "\n",
        "> \"Cognitive Services bring AI within reach of every developer... All it takes is an API call to embed the ability to see, hear, speak, search, understand, and accelerate decision-making into your apps.\"\n",
        "\n",
        "Microsoft currently has **nearly 30 cognitive service APIs** available that can perform a wide variety of tasks. We will be using several of these APIs in our remaining lab assignments.\n",
        "\n",
        "You may learn more about Azure Cognitive Services [on this website](https://azure.microsoft.com/en-us/services/cognitive-services).\n",
        "\n",
        "## About the Content Moderator Cognitive Service\n",
        "\n",
        "According to Microsoft:\n",
        "\n",
        "> \"Azure Content Moderator is a cognitive service that checks text, image, and video content for material that is potentially offensive, risky, or otherwise undesirable. When this material is found, the service applies appropriate labels (flags) to the content. Your app can then handle flagged content in order to comply with regulations or maintain the intended environment for users.\"\n",
        "\n",
        "The Content Moderator service is hence intended to provide developers with an all-in-one solution to content moderation tasks. If you consider the Web in its entirety, you will notice that a great deal of content is **user generated**. For example, virtually all of the content on websites such as Twitter, Facebook, Instagram, YouTube, Stack Overflow, Wikipedia, etc. is created by users, and not by the companies that operate those websites. In order to provide a positive experience for as many users as possible, companies are highly interested in ensuring that potentially offensive content is not contained in the videos, images, or written text that users post on the companies' websites. The purpose of the Content Moderator service, then, is to provide a single API that can be used to detect inappropriate content in text, images, or video. We will be using only the text moderation part of the API in this lab assignment, but I wanted you to be aware of the API's image and video moderation services, as well.\n",
        "\n",
        "You may learn more about the Content Moderator service [on this website](https://azure.microsoft.com/en-us/services/cognitive-services/content-moderator).\n",
        "\n",
        "## About APIs\n",
        "\n",
        "An API (Application Programming Interface) is a software interface that allows the resources, capabilities, or services of one computer system to be used by other computer systems. As with functions in computer programs, using an API typically involves passing one or more inputs to the system that provides the API, which then returns one or more outputs back to the system that called the API.\n",
        "\n",
        "To learn more about APIs, please read [this article](https://en.wikipedia.org/wiki/Application_programming_interface).\n",
        "\n",
        "## Lab Prerequisites\n",
        "\n",
        "To complete this lab, you will need to complete the following tasks:\n",
        "\n",
        "*   Create or sign into a Microsoft Azure account. If you do not already have an Azure account, then please sign up for a free student account [on this website](https://azure.microsoft.com/en-us/free/students).\n",
        "*   Add the \"Content Moderator\" resource to your Azure account. To do this, follow these steps:\n",
        "\n",
        "  1. After signing into your Azure account, click on the \"Create a Resource\" button.\n",
        "  2. Type \"Content Moderator\" in the search box, and click on the \"Content Moderator\" result when it appears.\n",
        "  3. Click the \"Create\" button.\n",
        "  4. Choose or create a resource group for the Content Moderator resource (e.g., \"585\").\n",
        "  5. Be sure that your \"Azure for Students\" subscription is selected, and that you have chosen a location for the resource (e.g., \"West US 2\").\n",
        "  6. Provide a unique name for the resource. I used \"585-Content-Moderator\", but feel free to use whatever name you like.\n",
        "  7. Choose the \"F0\" (free) pricing tier. This tier allows one call to the API per second, with a maximum of 5,000 calls per month.\n",
        "  8. Click the \"Review + create\" button and then click the \"Create\" button. \n",
        "  9. Wait for your new resource to be deployed (this may take a minute or two).\n",
        "  10. Go to your new Content Moderator resource.\n",
        "  11. **Copy and paste your key and endpoint URL into the code cell below**. You will need these values in order to be able to make calls to the API from your Python code.\n",
        "  12. Be sure to run the code cell below before continuing with the lab assignment.\n",
        "\n",
        "\n"
      ]
    },
    {
      "cell_type": "code",
      "metadata": {
        "id": "CRiC02x2LQDs"
      },
      "source": [
        "#copy and paste your Content Moderator API key and endpoint URL from Azure into the variables below:\n",
        "api_key = '93de9d8d881740b5bf3d75de21d46a77'\n",
        "endpoint = 'https://contentmoderator-python.cognitiveservices.azure.com/'"
      ],
      "execution_count": 13,
      "outputs": []
    },
    {
      "cell_type": "markdown",
      "metadata": {
        "id": "NL87bfouqiLH"
      },
      "source": [
        "## Install Azure Content Moderator and Import Libraries\n",
        "\n",
        "The Azure Content Moderator is not installed by default in the Google Colab environment, so we'll need to install it. As usual, we'll also need to import all of the libraries that we'll use in the lab assignment.\n",
        "\n",
        "Run the code cell below to install the content moderator and import all of the necessay libraries."
      ]
    },
    {
      "cell_type": "code",
      "metadata": {
        "id": "wOs0OJ52z6jm",
        "colab": {
          "base_uri": "https://localhost:8080/"
        },
        "outputId": "f2e2db8f-bf4f-4f21-9314-fa6eebcd68d9"
      },
      "source": [
        "#install the Microsoft Azure Cognitive Services Content Moderator library\n",
        "!pip install azure-cognitiveservices-vision-contentmoderator\n",
        "\n",
        "#import libraries\n",
        "import azure.cognitiveservices.vision.contentmoderator.models\n",
        "import io\n",
        "import numpy as np\n",
        "import pandas as pd\n",
        "import time\n",
        "from azure.cognitiveservices.vision.contentmoderator import ContentModeratorClient\n",
        "from IPython.display import clear_output\n",
        "from msrest.authentication import CognitiveServicesCredentials"
      ],
      "execution_count": 2,
      "outputs": [
        {
          "output_type": "stream",
          "name": "stdout",
          "text": [
            "Looking in indexes: https://pypi.org/simple, https://us-python.pkg.dev/colab-wheels/public/simple/\n",
            "Requirement already satisfied: azure-cognitiveservices-vision-contentmoderator in /usr/local/lib/python3.10/dist-packages (1.0.0)\n",
            "Requirement already satisfied: msrest>=0.5.0 in /usr/local/lib/python3.10/dist-packages (from azure-cognitiveservices-vision-contentmoderator) (0.7.1)\n",
            "Requirement already satisfied: azure-common~=1.1 in /usr/local/lib/python3.10/dist-packages (from azure-cognitiveservices-vision-contentmoderator) (1.1.28)\n",
            "Requirement already satisfied: azure-core>=1.24.0 in /usr/local/lib/python3.10/dist-packages (from msrest>=0.5.0->azure-cognitiveservices-vision-contentmoderator) (1.26.4)\n",
            "Requirement already satisfied: requests-oauthlib>=0.5.0 in /usr/local/lib/python3.10/dist-packages (from msrest>=0.5.0->azure-cognitiveservices-vision-contentmoderator) (1.3.1)\n",
            "Requirement already satisfied: requests~=2.16 in /usr/local/lib/python3.10/dist-packages (from msrest>=0.5.0->azure-cognitiveservices-vision-contentmoderator) (2.27.1)\n",
            "Requirement already satisfied: certifi>=2017.4.17 in /usr/local/lib/python3.10/dist-packages (from msrest>=0.5.0->azure-cognitiveservices-vision-contentmoderator) (2022.12.7)\n",
            "Requirement already satisfied: isodate>=0.6.0 in /usr/local/lib/python3.10/dist-packages (from msrest>=0.5.0->azure-cognitiveservices-vision-contentmoderator) (0.6.1)\n",
            "Requirement already satisfied: typing-extensions>=4.3.0 in /usr/local/lib/python3.10/dist-packages (from azure-core>=1.24.0->msrest>=0.5.0->azure-cognitiveservices-vision-contentmoderator) (4.5.0)\n",
            "Requirement already satisfied: six>=1.11.0 in /usr/local/lib/python3.10/dist-packages (from azure-core>=1.24.0->msrest>=0.5.0->azure-cognitiveservices-vision-contentmoderator) (1.16.0)\n",
            "Requirement already satisfied: charset-normalizer~=2.0.0 in /usr/local/lib/python3.10/dist-packages (from requests~=2.16->msrest>=0.5.0->azure-cognitiveservices-vision-contentmoderator) (2.0.12)\n",
            "Requirement already satisfied: idna<4,>=2.5 in /usr/local/lib/python3.10/dist-packages (from requests~=2.16->msrest>=0.5.0->azure-cognitiveservices-vision-contentmoderator) (3.4)\n",
            "Requirement already satisfied: urllib3<1.27,>=1.21.1 in /usr/local/lib/python3.10/dist-packages (from requests~=2.16->msrest>=0.5.0->azure-cognitiveservices-vision-contentmoderator) (1.26.15)\n",
            "Requirement already satisfied: oauthlib>=3.0.0 in /usr/local/lib/python3.10/dist-packages (from requests-oauthlib>=0.5.0->msrest>=0.5.0->azure-cognitiveservices-vision-contentmoderator) (3.2.2)\n"
          ]
        }
      ]
    },
    {
      "cell_type": "markdown",
      "metadata": {
        "id": "kVE-DneazAx3"
      },
      "source": [
        "## Load Data\n",
        "\n",
        "The data for this lab assignment are real user comments from Wikipedia's \"talk\" pages. Each comment has been evaluated by human judges to determine whether it contains different types of potentially inappropriate content such as threats, obscenity, insults, or identity-based hate.\n",
        "\n",
        "### Dataset Variables\n",
        "\n",
        "The dataset contains the following variables:\n",
        "* <u>comment_text</u>: The actual written user comment from a Wikipedia \"talk\" page\n",
        "* <u>toxic</u>: Whether or not the comment is considered to be toxic (1 = toxic, 0 = not toxic)\n",
        "* <u>obscene</u>: Whether or not the comment is considered obscene (1 = obscene, 0 = not obscene)\n",
        "* <u>threat</u>: Whether or not the comment is considered to contain a threat (1 = contains a threat, 0 = does not contain a threat)\n",
        "* <u>insult</u>: Whether or not the comment is considered to contain an insult (1 = contains an insult, 0 = does not contain an insult)\n",
        "* <u>identity_hate</u>: Whether or not the comment is considered to involve identity-based hate (1 = involves identity-based hate, 0 = does not involve identity-based hate)\n",
        "\n",
        "Run the code cell below to load the data into a pandas dataframe, and preview the first few rows of data.\n",
        "\n",
        "**<u>WARNING</u>: Many of the written comments in the dataset are obscene, offensive, or otherwise inappropriate!** It is unfortunately necessary for us to work with such comments if we want to build a system that can detect them. Remember that the overall goal of automated content moderation is to provide companies with tools that they can use to *prevent* offensive user-generated content from appearing on their websites. I would therefore ask you to maintain the proper perspective as we work with these data by adopting the scientific principles of rationality and objectivity."
      ]
    },
    {
      "cell_type": "code",
      "metadata": {
        "id": "rXuggizQO2yQ",
        "colab": {
          "base_uri": "https://localhost:8080/",
          "height": 363
        },
        "outputId": "5ab79041-aebb-404d-fe7d-b73457787df2"
      },
      "source": [
        "#load the dataset into a pandas dataframe named \"df\"\n",
        "df = pd.read_csv('Lab Assignment 02 - Data.csv')\n",
        "\n",
        "#show the first few rows of data\n",
        "df.head(10)"
      ],
      "execution_count": 3,
      "outputs": [
        {
          "output_type": "execute_result",
          "data": {
            "text/plain": [
              "                                        comment_text  toxic  obscene  threat  \\\n",
              "0  Thank you, should I one day wish to yet again ...      0        1       0   \n",
              "1  You translated much more clumsy, dude.\\nI just...      0        0       0   \n",
              "2  Dont really like the liberals either, Too much...      0        0       0   \n",
              "3  WHO CARES WIKIPEDIA IS NOT A PLACE FOR INDIVID...      1        0       0   \n",
              "4  Wow dude.  As your physician I suggest you sli...      0        0       1   \n",
              "5  The status quo version is plenty good enough f...      0        0       0   \n",
              "6  Regarding your passing \\n\\nBecause you willful...      0        0       1   \n",
              "7  diablada = bolivia \\n\\nlook at maps. this show...      0        0       0   \n",
              "8  I'ma smack ya upside da head wit a shovel. \\n\\...      0        0       1   \n",
              "9  P.S., I am halfway through a sex change.  Mayb...      0        1       0   \n",
              "\n",
              "   insult  identity_hate  \n",
              "0       0              0  \n",
              "1       1              0  \n",
              "2       1              0  \n",
              "3       0              0  \n",
              "4       0              0  \n",
              "5       0              0  \n",
              "6       0              0  \n",
              "7       0              0  \n",
              "8       0              0  \n",
              "9       0              0  "
            ],
            "text/html": [
              "\n",
              "  <div id=\"df-585b6321-4fb3-41db-853c-5b4193cfbd60\">\n",
              "    <div class=\"colab-df-container\">\n",
              "      <div>\n",
              "<style scoped>\n",
              "    .dataframe tbody tr th:only-of-type {\n",
              "        vertical-align: middle;\n",
              "    }\n",
              "\n",
              "    .dataframe tbody tr th {\n",
              "        vertical-align: top;\n",
              "    }\n",
              "\n",
              "    .dataframe thead th {\n",
              "        text-align: right;\n",
              "    }\n",
              "</style>\n",
              "<table border=\"1\" class=\"dataframe\">\n",
              "  <thead>\n",
              "    <tr style=\"text-align: right;\">\n",
              "      <th></th>\n",
              "      <th>comment_text</th>\n",
              "      <th>toxic</th>\n",
              "      <th>obscene</th>\n",
              "      <th>threat</th>\n",
              "      <th>insult</th>\n",
              "      <th>identity_hate</th>\n",
              "    </tr>\n",
              "  </thead>\n",
              "  <tbody>\n",
              "    <tr>\n",
              "      <th>0</th>\n",
              "      <td>Thank you, should I one day wish to yet again ...</td>\n",
              "      <td>0</td>\n",
              "      <td>1</td>\n",
              "      <td>0</td>\n",
              "      <td>0</td>\n",
              "      <td>0</td>\n",
              "    </tr>\n",
              "    <tr>\n",
              "      <th>1</th>\n",
              "      <td>You translated much more clumsy, dude.\\nI just...</td>\n",
              "      <td>0</td>\n",
              "      <td>0</td>\n",
              "      <td>0</td>\n",
              "      <td>1</td>\n",
              "      <td>0</td>\n",
              "    </tr>\n",
              "    <tr>\n",
              "      <th>2</th>\n",
              "      <td>Dont really like the liberals either, Too much...</td>\n",
              "      <td>0</td>\n",
              "      <td>0</td>\n",
              "      <td>0</td>\n",
              "      <td>1</td>\n",
              "      <td>0</td>\n",
              "    </tr>\n",
              "    <tr>\n",
              "      <th>3</th>\n",
              "      <td>WHO CARES WIKIPEDIA IS NOT A PLACE FOR INDIVID...</td>\n",
              "      <td>1</td>\n",
              "      <td>0</td>\n",
              "      <td>0</td>\n",
              "      <td>0</td>\n",
              "      <td>0</td>\n",
              "    </tr>\n",
              "    <tr>\n",
              "      <th>4</th>\n",
              "      <td>Wow dude.  As your physician I suggest you sli...</td>\n",
              "      <td>0</td>\n",
              "      <td>0</td>\n",
              "      <td>1</td>\n",
              "      <td>0</td>\n",
              "      <td>0</td>\n",
              "    </tr>\n",
              "    <tr>\n",
              "      <th>5</th>\n",
              "      <td>The status quo version is plenty good enough f...</td>\n",
              "      <td>0</td>\n",
              "      <td>0</td>\n",
              "      <td>0</td>\n",
              "      <td>0</td>\n",
              "      <td>0</td>\n",
              "    </tr>\n",
              "    <tr>\n",
              "      <th>6</th>\n",
              "      <td>Regarding your passing \\n\\nBecause you willful...</td>\n",
              "      <td>0</td>\n",
              "      <td>0</td>\n",
              "      <td>1</td>\n",
              "      <td>0</td>\n",
              "      <td>0</td>\n",
              "    </tr>\n",
              "    <tr>\n",
              "      <th>7</th>\n",
              "      <td>diablada = bolivia \\n\\nlook at maps. this show...</td>\n",
              "      <td>0</td>\n",
              "      <td>0</td>\n",
              "      <td>0</td>\n",
              "      <td>0</td>\n",
              "      <td>0</td>\n",
              "    </tr>\n",
              "    <tr>\n",
              "      <th>8</th>\n",
              "      <td>I'ma smack ya upside da head wit a shovel. \\n\\...</td>\n",
              "      <td>0</td>\n",
              "      <td>0</td>\n",
              "      <td>1</td>\n",
              "      <td>0</td>\n",
              "      <td>0</td>\n",
              "    </tr>\n",
              "    <tr>\n",
              "      <th>9</th>\n",
              "      <td>P.S., I am halfway through a sex change.  Mayb...</td>\n",
              "      <td>0</td>\n",
              "      <td>1</td>\n",
              "      <td>0</td>\n",
              "      <td>0</td>\n",
              "      <td>0</td>\n",
              "    </tr>\n",
              "  </tbody>\n",
              "</table>\n",
              "</div>\n",
              "      <button class=\"colab-df-convert\" onclick=\"convertToInteractive('df-585b6321-4fb3-41db-853c-5b4193cfbd60')\"\n",
              "              title=\"Convert this dataframe to an interactive table.\"\n",
              "              style=\"display:none;\">\n",
              "        \n",
              "  <svg xmlns=\"http://www.w3.org/2000/svg\" height=\"24px\"viewBox=\"0 0 24 24\"\n",
              "       width=\"24px\">\n",
              "    <path d=\"M0 0h24v24H0V0z\" fill=\"none\"/>\n",
              "    <path d=\"M18.56 5.44l.94 2.06.94-2.06 2.06-.94-2.06-.94-.94-2.06-.94 2.06-2.06.94zm-11 1L8.5 8.5l.94-2.06 2.06-.94-2.06-.94L8.5 2.5l-.94 2.06-2.06.94zm10 10l.94 2.06.94-2.06 2.06-.94-2.06-.94-.94-2.06-.94 2.06-2.06.94z\"/><path d=\"M17.41 7.96l-1.37-1.37c-.4-.4-.92-.59-1.43-.59-.52 0-1.04.2-1.43.59L10.3 9.45l-7.72 7.72c-.78.78-.78 2.05 0 2.83L4 21.41c.39.39.9.59 1.41.59.51 0 1.02-.2 1.41-.59l7.78-7.78 2.81-2.81c.8-.78.8-2.07 0-2.86zM5.41 20L4 18.59l7.72-7.72 1.47 1.35L5.41 20z\"/>\n",
              "  </svg>\n",
              "      </button>\n",
              "      \n",
              "  <style>\n",
              "    .colab-df-container {\n",
              "      display:flex;\n",
              "      flex-wrap:wrap;\n",
              "      gap: 12px;\n",
              "    }\n",
              "\n",
              "    .colab-df-convert {\n",
              "      background-color: #E8F0FE;\n",
              "      border: none;\n",
              "      border-radius: 50%;\n",
              "      cursor: pointer;\n",
              "      display: none;\n",
              "      fill: #1967D2;\n",
              "      height: 32px;\n",
              "      padding: 0 0 0 0;\n",
              "      width: 32px;\n",
              "    }\n",
              "\n",
              "    .colab-df-convert:hover {\n",
              "      background-color: #E2EBFA;\n",
              "      box-shadow: 0px 1px 2px rgba(60, 64, 67, 0.3), 0px 1px 3px 1px rgba(60, 64, 67, 0.15);\n",
              "      fill: #174EA6;\n",
              "    }\n",
              "\n",
              "    [theme=dark] .colab-df-convert {\n",
              "      background-color: #3B4455;\n",
              "      fill: #D2E3FC;\n",
              "    }\n",
              "\n",
              "    [theme=dark] .colab-df-convert:hover {\n",
              "      background-color: #434B5C;\n",
              "      box-shadow: 0px 1px 3px 1px rgba(0, 0, 0, 0.15);\n",
              "      filter: drop-shadow(0px 1px 2px rgba(0, 0, 0, 0.3));\n",
              "      fill: #FFFFFF;\n",
              "    }\n",
              "  </style>\n",
              "\n",
              "      <script>\n",
              "        const buttonEl =\n",
              "          document.querySelector('#df-585b6321-4fb3-41db-853c-5b4193cfbd60 button.colab-df-convert');\n",
              "        buttonEl.style.display =\n",
              "          google.colab.kernel.accessAllowed ? 'block' : 'none';\n",
              "\n",
              "        async function convertToInteractive(key) {\n",
              "          const element = document.querySelector('#df-585b6321-4fb3-41db-853c-5b4193cfbd60');\n",
              "          const dataTable =\n",
              "            await google.colab.kernel.invokeFunction('convertToInteractive',\n",
              "                                                     [key], {});\n",
              "          if (!dataTable) return;\n",
              "\n",
              "          const docLinkHtml = 'Like what you see? Visit the ' +\n",
              "            '<a target=\"_blank\" href=https://colab.research.google.com/notebooks/data_table.ipynb>data table notebook</a>'\n",
              "            + ' to learn more about interactive tables.';\n",
              "          element.innerHTML = '';\n",
              "          dataTable['output_type'] = 'display_data';\n",
              "          await google.colab.output.renderOutput(dataTable, element);\n",
              "          const docLink = document.createElement('div');\n",
              "          docLink.innerHTML = docLinkHtml;\n",
              "          element.appendChild(docLink);\n",
              "        }\n",
              "      </script>\n",
              "    </div>\n",
              "  </div>\n",
              "  "
            ]
          },
          "metadata": {},
          "execution_count": 3
        }
      ]
    },
    {
      "cell_type": "markdown",
      "metadata": {
        "id": "V8nJyMYC5GRE"
      },
      "source": [
        "## Generate Descriptive Statistics\n",
        "\n",
        "It's always a good idea to familiarize yourself with your data by looking at some quick descriptive statistics!\n",
        "\n",
        "#### Task 01:\n",
        "Write a line of code in the cell below that will display descriptive statistics for the numeric variables in the `df` dataframe.\n",
        "\n",
        "#### Question 01:\n",
        "\n",
        "What proportion of the comments in the dataset are labeled as being **toxic**? Report your answer in decimal format using three decimals of precision (e.g., 0.182). **Tip:** Consider the way in which the comments in the dataset are coded (e.g., 1 = toxic, 0 = not toxic), and what this means with respect to interpreting the descriptive statistics."
      ]
    },
    {
      "cell_type": "code",
      "metadata": {
        "id": "uOjee1FHQY96",
        "colab": {
          "base_uri": "https://localhost:8080/",
          "height": 300
        },
        "outputId": "febd4636-81da-46dd-9276-4b0b46d38b72"
      },
      "source": [
        "#display descriptive statistics for the numeric variables in the dataframe\n",
        "df.describe()"
      ],
      "execution_count": 4,
      "outputs": [
        {
          "output_type": "execute_result",
          "data": {
            "text/plain": [
              "            toxic     obscene      threat      insult  identity_hate\n",
              "count  150.000000  150.000000  150.000000  150.000000     150.000000\n",
              "mean     0.153333    0.160000    0.146667    0.166667       0.173333\n",
              "std      0.361516    0.367834    0.354958    0.373927       0.379803\n",
              "min      0.000000    0.000000    0.000000    0.000000       0.000000\n",
              "25%      0.000000    0.000000    0.000000    0.000000       0.000000\n",
              "50%      0.000000    0.000000    0.000000    0.000000       0.000000\n",
              "75%      0.000000    0.000000    0.000000    0.000000       0.000000\n",
              "max      1.000000    1.000000    1.000000    1.000000       1.000000"
            ],
            "text/html": [
              "\n",
              "  <div id=\"df-06aa5057-1ffe-4696-bbc4-1b58fd0090da\">\n",
              "    <div class=\"colab-df-container\">\n",
              "      <div>\n",
              "<style scoped>\n",
              "    .dataframe tbody tr th:only-of-type {\n",
              "        vertical-align: middle;\n",
              "    }\n",
              "\n",
              "    .dataframe tbody tr th {\n",
              "        vertical-align: top;\n",
              "    }\n",
              "\n",
              "    .dataframe thead th {\n",
              "        text-align: right;\n",
              "    }\n",
              "</style>\n",
              "<table border=\"1\" class=\"dataframe\">\n",
              "  <thead>\n",
              "    <tr style=\"text-align: right;\">\n",
              "      <th></th>\n",
              "      <th>toxic</th>\n",
              "      <th>obscene</th>\n",
              "      <th>threat</th>\n",
              "      <th>insult</th>\n",
              "      <th>identity_hate</th>\n",
              "    </tr>\n",
              "  </thead>\n",
              "  <tbody>\n",
              "    <tr>\n",
              "      <th>count</th>\n",
              "      <td>150.000000</td>\n",
              "      <td>150.000000</td>\n",
              "      <td>150.000000</td>\n",
              "      <td>150.000000</td>\n",
              "      <td>150.000000</td>\n",
              "    </tr>\n",
              "    <tr>\n",
              "      <th>mean</th>\n",
              "      <td>0.153333</td>\n",
              "      <td>0.160000</td>\n",
              "      <td>0.146667</td>\n",
              "      <td>0.166667</td>\n",
              "      <td>0.173333</td>\n",
              "    </tr>\n",
              "    <tr>\n",
              "      <th>std</th>\n",
              "      <td>0.361516</td>\n",
              "      <td>0.367834</td>\n",
              "      <td>0.354958</td>\n",
              "      <td>0.373927</td>\n",
              "      <td>0.379803</td>\n",
              "    </tr>\n",
              "    <tr>\n",
              "      <th>min</th>\n",
              "      <td>0.000000</td>\n",
              "      <td>0.000000</td>\n",
              "      <td>0.000000</td>\n",
              "      <td>0.000000</td>\n",
              "      <td>0.000000</td>\n",
              "    </tr>\n",
              "    <tr>\n",
              "      <th>25%</th>\n",
              "      <td>0.000000</td>\n",
              "      <td>0.000000</td>\n",
              "      <td>0.000000</td>\n",
              "      <td>0.000000</td>\n",
              "      <td>0.000000</td>\n",
              "    </tr>\n",
              "    <tr>\n",
              "      <th>50%</th>\n",
              "      <td>0.000000</td>\n",
              "      <td>0.000000</td>\n",
              "      <td>0.000000</td>\n",
              "      <td>0.000000</td>\n",
              "      <td>0.000000</td>\n",
              "    </tr>\n",
              "    <tr>\n",
              "      <th>75%</th>\n",
              "      <td>0.000000</td>\n",
              "      <td>0.000000</td>\n",
              "      <td>0.000000</td>\n",
              "      <td>0.000000</td>\n",
              "      <td>0.000000</td>\n",
              "    </tr>\n",
              "    <tr>\n",
              "      <th>max</th>\n",
              "      <td>1.000000</td>\n",
              "      <td>1.000000</td>\n",
              "      <td>1.000000</td>\n",
              "      <td>1.000000</td>\n",
              "      <td>1.000000</td>\n",
              "    </tr>\n",
              "  </tbody>\n",
              "</table>\n",
              "</div>\n",
              "      <button class=\"colab-df-convert\" onclick=\"convertToInteractive('df-06aa5057-1ffe-4696-bbc4-1b58fd0090da')\"\n",
              "              title=\"Convert this dataframe to an interactive table.\"\n",
              "              style=\"display:none;\">\n",
              "        \n",
              "  <svg xmlns=\"http://www.w3.org/2000/svg\" height=\"24px\"viewBox=\"0 0 24 24\"\n",
              "       width=\"24px\">\n",
              "    <path d=\"M0 0h24v24H0V0z\" fill=\"none\"/>\n",
              "    <path d=\"M18.56 5.44l.94 2.06.94-2.06 2.06-.94-2.06-.94-.94-2.06-.94 2.06-2.06.94zm-11 1L8.5 8.5l.94-2.06 2.06-.94-2.06-.94L8.5 2.5l-.94 2.06-2.06.94zm10 10l.94 2.06.94-2.06 2.06-.94-2.06-.94-.94-2.06-.94 2.06-2.06.94z\"/><path d=\"M17.41 7.96l-1.37-1.37c-.4-.4-.92-.59-1.43-.59-.52 0-1.04.2-1.43.59L10.3 9.45l-7.72 7.72c-.78.78-.78 2.05 0 2.83L4 21.41c.39.39.9.59 1.41.59.51 0 1.02-.2 1.41-.59l7.78-7.78 2.81-2.81c.8-.78.8-2.07 0-2.86zM5.41 20L4 18.59l7.72-7.72 1.47 1.35L5.41 20z\"/>\n",
              "  </svg>\n",
              "      </button>\n",
              "      \n",
              "  <style>\n",
              "    .colab-df-container {\n",
              "      display:flex;\n",
              "      flex-wrap:wrap;\n",
              "      gap: 12px;\n",
              "    }\n",
              "\n",
              "    .colab-df-convert {\n",
              "      background-color: #E8F0FE;\n",
              "      border: none;\n",
              "      border-radius: 50%;\n",
              "      cursor: pointer;\n",
              "      display: none;\n",
              "      fill: #1967D2;\n",
              "      height: 32px;\n",
              "      padding: 0 0 0 0;\n",
              "      width: 32px;\n",
              "    }\n",
              "\n",
              "    .colab-df-convert:hover {\n",
              "      background-color: #E2EBFA;\n",
              "      box-shadow: 0px 1px 2px rgba(60, 64, 67, 0.3), 0px 1px 3px 1px rgba(60, 64, 67, 0.15);\n",
              "      fill: #174EA6;\n",
              "    }\n",
              "\n",
              "    [theme=dark] .colab-df-convert {\n",
              "      background-color: #3B4455;\n",
              "      fill: #D2E3FC;\n",
              "    }\n",
              "\n",
              "    [theme=dark] .colab-df-convert:hover {\n",
              "      background-color: #434B5C;\n",
              "      box-shadow: 0px 1px 3px 1px rgba(0, 0, 0, 0.15);\n",
              "      filter: drop-shadow(0px 1px 2px rgba(0, 0, 0, 0.3));\n",
              "      fill: #FFFFFF;\n",
              "    }\n",
              "  </style>\n",
              "\n",
              "      <script>\n",
              "        const buttonEl =\n",
              "          document.querySelector('#df-06aa5057-1ffe-4696-bbc4-1b58fd0090da button.colab-df-convert');\n",
              "        buttonEl.style.display =\n",
              "          google.colab.kernel.accessAllowed ? 'block' : 'none';\n",
              "\n",
              "        async function convertToInteractive(key) {\n",
              "          const element = document.querySelector('#df-06aa5057-1ffe-4696-bbc4-1b58fd0090da');\n",
              "          const dataTable =\n",
              "            await google.colab.kernel.invokeFunction('convertToInteractive',\n",
              "                                                     [key], {});\n",
              "          if (!dataTable) return;\n",
              "\n",
              "          const docLinkHtml = 'Like what you see? Visit the ' +\n",
              "            '<a target=\"_blank\" href=https://colab.research.google.com/notebooks/data_table.ipynb>data table notebook</a>'\n",
              "            + ' to learn more about interactive tables.';\n",
              "          element.innerHTML = '';\n",
              "          dataTable['output_type'] = 'display_data';\n",
              "          await google.colab.output.renderOutput(dataTable, element);\n",
              "          const docLink = document.createElement('div');\n",
              "          docLink.innerHTML = docLinkHtml;\n",
              "          element.appendChild(docLink);\n",
              "        }\n",
              "      </script>\n",
              "    </div>\n",
              "  </div>\n",
              "  "
            ]
          },
          "metadata": {},
          "execution_count": 4
        }
      ]
    },
    {
      "cell_type": "markdown",
      "metadata": {
        "id": "p1y9lmTJwsWz"
      },
      "source": [
        "## Appropriate vs. Inappropriate Comments\n",
        "\n",
        "The various types of inappropriate comments in the dataset (*toxic*, *obscene*, *threat*, etc.) are all identified using binary coding (i.e., ones or zeros) in their respective columns. But what if we simply want to know if a comment is appropriate or inappropriate? There is not currently a column in the dataset that indicates whether the human judges found a comment to be appropriate or not. \n",
        "\n",
        "If a comment is considered to be inappropriate in any way, then we know that it will have a value of \"1\" in at least one of the existing numeric columns in the dataset. We can use this knowledge to create a new column that will identify whether a comment is inappropriate in any way. In brief, if the sum of all of the current numeric columns for a given comment is greater than zero, then we know that the human judges found something to be wrong with that comment (i.e., the comment is *inappropriate*). Otherwise, if the sum is equal to zero, then we know that the human judges found nothing wrong with the comment (i.e., the comment is *appropriate*).\n",
        "\n",
        "Run the code cell below to add a new column to the `df` dataframe named `human_inappropriate`, which will indicate whether the human judges found a comment to be inappropriate or not (inappropriate = 1, appropriate = 0). The first line of code simply computes the sum of all of the existing numeric columns in the dataframe for each comment, and stores the results in a new column named `human_inappropriate`. If the sum of the columns for a particular comment is greater than or equal to one, then it indicates that the comment is *inappropriate* in some way. What we want, however, is for a value of \"1\" in our new column to indicate that the comment is *inappropriate*, while a value of \"0\" should indicate that the comment is *appropriate*. As such, the second line of code in the cell below recodes the results of our \"sum\" operation, such that inappropriate comments will labeled with a \"1\" and appropriate comments will be labeled with a \"0\". This second line of code uses a very useful feature of Python called *list comprehension*. To learn more about list comprehension, please see [this page](https://docs.python.org/3/tutorial/datastructures.html#list-comprehensions)."
      ]
    },
    {
      "cell_type": "code",
      "metadata": {
        "id": "l0U5GVcpYsbD",
        "colab": {
          "base_uri": "https://localhost:8080/"
        },
        "outputId": "34a48f23-f9ac-4374-bf88-1e8252aeab4b"
      },
      "source": [
        "#add a new column to the 'df' dataframe, and populate it with the row-wise sums of the values in all existing numeric columns\n",
        "df['human_inappropriate'] = df.sum(axis=1)\n",
        "\n",
        "#Recode the new \"human_inappropriate\" column such that appropriate comments have a value of \"0\" \n",
        "#and inappropriate comments have a value of \"1\".\n",
        "df['human_inappropriate'] = [1 if x > 0 else 0 for x in df.human_inappropriate]"
      ],
      "execution_count": 5,
      "outputs": [
        {
          "output_type": "stream",
          "name": "stderr",
          "text": [
            "<ipython-input-5-f0a504a6ce18>:2: FutureWarning: Dropping of nuisance columns in DataFrame reductions (with 'numeric_only=None') is deprecated; in a future version this will raise TypeError.  Select only valid columns before calling the reduction.\n",
            "  df['human_inappropriate'] = df.sum(axis=1)\n"
          ]
        }
      ]
    },
    {
      "cell_type": "markdown",
      "metadata": {
        "id": "t6acIqgC8NUq"
      },
      "source": [
        "#### Task 02:\n",
        "\n",
        "Write a line of code in the cell below that will display the number of comments in the dataset that the human judges found to be appropriate (i.e., comments that are not labeled as *toxic*, *obscene*, *threat*, *insult*, or *identity_hate*).\n",
        "\n",
        "#### Question 02:\n",
        "\n",
        "How many comments in the dataset were found by the human judges to be appropriate?"
      ]
    },
    {
      "cell_type": "code",
      "metadata": {
        "id": "CJS6csuC1YC9",
        "colab": {
          "base_uri": "https://localhost:8080/"
        },
        "outputId": "b7d1be2a-8cdb-4e0d-de6f-baa32bf75248"
      },
      "source": [
        "#display the number of comments that are appropriate\n",
        "# Get the count of Zeros in column 'human_inappropriate' \n",
        "count = (df['human_inappropriate'] == 0).sum()\n",
        "\n",
        "print(count, 'comments in the dataset were found by the human judges to be appropriate ')"
      ],
      "execution_count": 6,
      "outputs": [
        {
          "output_type": "stream",
          "name": "stdout",
          "text": [
            "30 comments in the dataset were found by the human judges to be appropriate \n"
          ]
        }
      ]
    },
    {
      "cell_type": "markdown",
      "metadata": {
        "id": "duIDV2xYx4ig"
      },
      "source": [
        "## Length of Comments\n",
        "\n",
        "The Content Moderator cognitive service requires that text comments passed into the API have a length of between 1 and 1024 characters (inclusive). Put differently, any empty (i.e., length 0) text comment passed into the API or any comment whose length exceeds 1024 characters will cause the API to return an error. As such, we will need to check whether all of the comments in our dataset are of an appropriate length for the API.\n",
        "\n",
        "#### Task 03:\n",
        "\n",
        "Write some code that will display the minimum length and maximum length of the text comments in the dataframe\n",
        "\n",
        "#### Question 03:\n",
        "\n",
        "What is maximum length of the text comments in the dataframe?"
      ]
    },
    {
      "cell_type": "code",
      "metadata": {
        "id": "YI3sJYN40IMl",
        "colab": {
          "base_uri": "https://localhost:8080/"
        },
        "outputId": "95da6a54-53c9-4435-ebf4-ffb7c871e265"
      },
      "source": [
        "#display the minimum length of the of the items in the \"comment_text\" column\n",
        "print('The minimum length of the of the items in the \"comment_text\" column is : ', df.comment_text.str.len().min())\n",
        "\n",
        "#print the maximum length of the of the items in the \"comment_text\" column\n",
        "print('The maximum length of the of the items in the \"comment_text\" column is : ', df.comment_text.str.len().max())"
      ],
      "execution_count": 7,
      "outputs": [
        {
          "output_type": "stream",
          "name": "stdout",
          "text": [
            "The minimum length of the of the items in the \"comment_text\" column is :  20\n",
            "The maximum length of the of the items in the \"comment_text\" column is :  924\n"
          ]
        }
      ]
    },
    {
      "cell_type": "markdown",
      "metadata": {
        "id": "rZ3gKeNv-EvA"
      },
      "source": [
        "## Connect to the Azure Content Moderator Cognitive Service\n",
        "\n",
        "Now that we're familiar with our dataset, let's connect to the Content Moderator cognitive service. As noted at the beginning of the lab, you will need your API key and endpoint URL in order to connect to the Content Moderator API, so please be sure that you followed the earlier instructions in this assignment, and added your key and endpoint values to the appropriate variables. \n",
        "\n",
        "When you're certain that you've stored your key and endpoint values in the `api_key` and `endpoint` variables, run the code cell below to authenticate yourself with the Azure Content Moderator service, and create a new instance of a Content Moderator client. Your `client` object will be needed to use all of the functions available through the  Content Moderator service.\n",
        "\n"
      ]
    },
    {
      "cell_type": "code",
      "metadata": {
        "id": "Jmh3Y_wTZCq_"
      },
      "source": [
        "#authenticate with the Content Moderator service, and create a Content Moderator client object\n",
        "client = ContentModeratorClient(endpoint=endpoint, credentials=CognitiveServicesCredentials(api_key))"
      ],
      "execution_count": 15,
      "outputs": []
    },
    {
      "cell_type": "markdown",
      "metadata": {
        "id": "G38JTNQin8x6"
      },
      "source": [
        "## The `get_inappropriate_terms()` Function\n",
        "\n",
        "Working with the Content Moderator API is a bit tricky. For example, the current version of the API only accepts file objects as input (as opposed to, say, a simple string variable). Microsoft's engineers have promised that they will improve this in the next release, but for now we'll just need to work around this issue. The results that are returned by the API are also quite complex. For example, they include an automatically corrected version of the input text, extensive details about any personally identifiable information (PII) that the API detected, the location of each inappropriate term in the input text, etc.\n",
        "\n",
        "In light of the above considerations, and given that this is our first time working with a Cognitive Services API, I have created a `get_inappropriate_terms()` function for this assignment that should make working with the API much easier. In brief, we will simply need to pass in a comment (as a string variable) to the function. It will then call the API, and return any inappropriate terms as a list.\n",
        "\n",
        "Run the code cell below to add the `get_inappropriate_terms()` function to your lab assignment program."
      ]
    },
    {
      "cell_type": "code",
      "metadata": {
        "id": "IIjaXhYqcBWe"
      },
      "source": [
        "#define a function that will pass a comment to the API and return any inappropriate \n",
        "#terms that the API identifies\n",
        "def get_inappropriate_terms(comment):\n",
        "  #write comment to local file -- this is unfortunately necessary because the API\n",
        "  #currently only accepts file-based input.  :(\n",
        "  with open('comment.txt', 'w') as f:\n",
        "    f.write(comment)\n",
        "  \n",
        "  #send comment to Content Moderator API, and get the results\n",
        "  with open('comment.txt', 'rb') as f:\n",
        "    results = client.text_moderation.screen_text(text_content_type='text/plain', text_content=f, language='eng', autocorrect=True, pii=True)\n",
        "\n",
        "  #define a list to hold any inappropriate terms that the API has identified\n",
        "  inappropriate_terms = []\n",
        "\n",
        "  #if at least one inappropriate term was identified\n",
        "  if results.terms is not None:\n",
        "    #populate the inappropriate_terms list with terms identified by the API\n",
        "    inappropriate_terms = [dt.term for dt in results.terms]\n",
        "\n",
        "  #sleep for 1.1 seconds (in deference to the API's limit of one transaction per second)\n",
        "  time.sleep(1.1)\n",
        "  \n",
        "  #return a list containing any inappropriate terms \n",
        "  return inappropriate_terms"
      ],
      "execution_count": 9,
      "outputs": []
    },
    {
      "cell_type": "markdown",
      "metadata": {
        "id": "1B2rql8NuIzE"
      },
      "source": [
        "## Test the Content Moderator API\n",
        "\n",
        "Now that we've connected to the Content Moderator cognitive service, let's test the API.\n",
        "\n",
        "#### Task 04:\n",
        "\n",
        "The code cell below contains a quote from *Henry IV, Part I* by William Shakespeare. Write some code that will pass this quote to the `get_inappropriate_terms()` function, and print the list of inappropriate terms that the API identifies.\n",
        "\n",
        "#### Question 04:\n",
        "\n",
        "Which words in the quote from William Shakespeare were identified as inappropriate by the Content Moderator API?"
      ]
    },
    {
      "cell_type": "code",
      "metadata": {
        "id": "S_9SmQcqWUY4",
        "colab": {
          "base_uri": "https://localhost:8080/"
        },
        "outputId": "a54e768d-d6a4-42a5-fd87-d86caa20aabc"
      },
      "source": [
        "#define a quote from Shakespeare's Henry IV, Part I\n",
        "shakespeare_quote = 'Thou clay-brained guts, thou knotty-pated fool, thou whoreson obscene greasy tallow-catch!'\n",
        "\n",
        "#pass the Shakespeare quote to the get_inappropriate_terms() function, and print the results\n",
        "get_inappropriate_terms(shakespeare_quote)\n"
      ],
      "execution_count": 16,
      "outputs": [
        {
          "output_type": "execute_result",
          "data": {
            "text/plain": [
              "['whoreson']"
            ]
          },
          "metadata": {},
          "execution_count": 16
        }
      ]
    },
    {
      "cell_type": "markdown",
      "metadata": {
        "id": "SEU8fU0T7jXv"
      },
      "source": [
        "## Process Comments\n",
        "\n",
        "If you've reached this point in the lab, then you've already been able to set up a cognitive service on the Microsoft Azure platform and successfully communicate with the service's API using Python. Congratulations!\n",
        "\n",
        "Our next task will be to process all of the comments in our dataset. This will involve the following steps for each comment:\n",
        "\n",
        "1. Send a comment to the API, and get the resulting list of inapproprite terms for that comment.\n",
        "2. Determine how many inappropriate terms were identified by the API for the comment, and record the number of inappropriate terms in a list.\n",
        "\n",
        "Once these steps have been completed for each comment, we will add a new column to our dataframe that indicates whether the API found each comment to be appropriate or not. Run the code cell below to perform these tasks.\n",
        "\n",
        "**Note:** Recalling that we are limited to one API transaction per second, it will take approximately 2.5 to 3 minutes to process all of the comments in our dataset. As such, please be patient!"
      ]
    },
    {
      "cell_type": "code",
      "metadata": {
        "id": "Km79FKmuIeoc",
        "colab": {
          "base_uri": "https://localhost:8080/"
        },
        "outputId": "446bc4f8-cec5-44ef-aee6-ceec19f8d54e"
      },
      "source": [
        "#define a list to hold the number of inappropriate terms in each comment\n",
        "inappropriate_term_counts = []\n",
        "\n",
        "#process each comment in the dataframe\n",
        "current_comment = 0\n",
        "number_of_comments = len(df.comment_text)\n",
        "for comment in df.comment_text:\n",
        "  #display overall progress\n",
        "  clear_output(wait=True)\n",
        "  current_comment += 1\n",
        "  print('Processing comment {} of {}...'.format(current_comment, number_of_comments))\n",
        "  #get a list of inappropriate terms for the current comment\n",
        "  results = get_inappropriate_terms(comment)\n",
        "  #add the number of inappropriate terms for this comment to the list\n",
        "  inappropriate_term_counts.append(len(results))  \n",
        "\n",
        "#add a column to the dataframe indicating whether the API found each comment to be appropriate or not\n",
        "df['api_inappropriate'] = [1 if n > 0 else 0 for n in inappropriate_term_counts]\n",
        "\n",
        "#update status\n",
        "clear_output(wait=True)\n",
        "print('Processing complete!')"
      ],
      "execution_count": 17,
      "outputs": [
        {
          "output_type": "stream",
          "name": "stdout",
          "text": [
            "Processing complete!\n"
          ]
        }
      ]
    },
    {
      "cell_type": "markdown",
      "metadata": {
        "id": "jpECA_FKfg09"
      },
      "source": [
        "## Appropriate or Inappropriate?\n",
        "\n",
        "Earlier in this lab, we determined the number of comments in the dataset that were found to be appropriate by human judges. Now let's see how many of the comments the Content Moderator API found to be appropriate. Remember that we just added a new column named `api_inappropriate` to our dataframe, and that the values in this column indicate whether the API found each comment to be appropriate or not (inappropriate = 1, appropriate = 0).\n",
        "\n",
        "#### Task 05:\n",
        "\n",
        "Write a line of code in the cell below that will display the number of comments in the dataset that the Content Moderator API found to be appropriate.\n",
        "\n",
        "#### Question 05:\n",
        "\n",
        "How many comments in the dataset did the Content Moderator API find to be <u>**appropriate**</u>?"
      ]
    },
    {
      "cell_type": "code",
      "metadata": {
        "id": "pzQxSw4AjdTm",
        "colab": {
          "base_uri": "https://localhost:8080/"
        },
        "outputId": "ccc405c9-30a6-4592-e5fe-d548e7568b1f"
      },
      "source": [
        "#display the number of comments in the dataset that the Content Moderator API found to be appropriate\n",
        "# Get the count of Zeros in column 'api_inappropriate' \n",
        "count = (df['api_inappropriate'] == 0).sum()\n",
        "\n",
        "print('Comments in the dataset that the Content Moderator API found to be appropriate are: ', count)"
      ],
      "execution_count": 18,
      "outputs": [
        {
          "output_type": "stream",
          "name": "stdout",
          "text": [
            "Comments in the dataset that the Content Moderator API found to be appropriate are:  120\n"
          ]
        }
      ]
    },
    {
      "cell_type": "markdown",
      "metadata": {
        "id": "sV3Mmqcqj0yy"
      },
      "source": [
        "Another important consideration is the extent to which the conclusions of the human judges and the Content Moderator service overlap.\n",
        "\n",
        "#### Task 06:\n",
        "\n",
        "Write a line of code in the cell below that will display the number of comments in the dataset that both the human judges and the Content Moderator API considered to be appropriate. \n",
        "* **Hint:** The answer will be the number of comments where the value of `human_inappropriate` is 0, and the value of `api_inappropriate` is also 0.\n",
        "\n",
        "####Question 06:\n",
        "\n",
        "How many comments in the dataset were considered to be appropriate by both the human judges and the Content Moderator API?"
      ]
    },
    {
      "cell_type": "code",
      "metadata": {
        "id": "O-3vsmGgQyK2",
        "colab": {
          "base_uri": "https://localhost:8080/"
        },
        "outputId": "7202347b-c066-4a66-fcf4-107d62d31480"
      },
      "source": [
        "#display the number of comments in the dataset that both the human judges and the Content Moderator API considered to be appropriate\n",
        "\n",
        "# Get the count of comments where column 'api_inappropriate' AND 'human_inappropriate' have Zeros.\n",
        "count = len(df[(df['api_inappropriate'] == 0) & (df['human_inappropriate'] == 0)])\n",
        "\n",
        "print(count, 'comments in the dataset are considered appropriate by both the human judges and the Content Moderator API.')"
      ],
      "execution_count": 30,
      "outputs": [
        {
          "output_type": "stream",
          "name": "stdout",
          "text": [
            "29 comments in the dataset are considered appropriate by both the human judges and the Content Moderator API.\n"
          ]
        }
      ]
    },
    {
      "cell_type": "markdown",
      "metadata": {
        "id": "I6D8ODrlm3RC"
      },
      "source": [
        "Based on the previous two tasks, it should be clear that the human judges considered many more of the comments in the dataset to be inappropriate than the Content Moderator API. Let's explore this situation in a bit more detail.\n",
        "\n",
        "The code cell below contains a function named `proportion_of_inappropriate_comments_identified()` that computes and returns the proportion of comments of the specified type (*toxic*, *obscene*, *threat*, etc.) that were labeled by human judges as inappropriate, *and also identified by the Content Moderator API as inappropriate*. Put differently, this function will tell us the proportion of inappropriate comments of a particular type that the API was able to correctly identify as inappropriate.\n",
        "\n",
        "Run the code cell below to make this function available to your Python program."
      ]
    },
    {
      "cell_type": "code",
      "metadata": {
        "id": "PNQM6DFz3Ybv"
      },
      "source": [
        "#Define a function that computes the proportion of inappropriate comments of a particular type \n",
        "#that the API was able to correctly identify as inappropriate.\n",
        "def proportion_of_inappropriate_comments_identified(comment_type):\n",
        "  col1_vals = df[comment_type].tolist()\n",
        "  col2_vals = df.api_inappropriate.tolist()\n",
        "  number_of_comments = len(col1_vals)\n",
        "  number_of_inappropriate_comments = np.sum(col1_vals)\n",
        "  identified = 0\n",
        "  for i in range(number_of_comments):\n",
        "    if (col1_vals[i] == 1 and col2_vals[i] == 1):\n",
        "      identified += 1\n",
        "  return identified / number_of_inappropriate_comments"
      ],
      "execution_count": 31,
      "outputs": []
    },
    {
      "cell_type": "markdown",
      "metadata": {
        "id": "u0gMR1egAR7U"
      },
      "source": [
        "#### Task 07:\n",
        "\n",
        "The code cell below defines a list that contains the names of all of the various types of inappropriate comments in our dataset. Write a `for` loop that will iterate through the items in the list, pass the name of each comment type to the `percent_of_inappropriate_comments_identified()` function, and then display the results.\n",
        "\n",
        "#### Question 07:\n",
        "\n",
        "What proportion of the `threat` comments in the dataset was the API able to identify correctly? Report your answer using three decimals of precision (e.g., 0.135).\n",
        "\n",
        "#### Question 08:\n",
        "In general, what can you conclude about the Content Moderator API's ability to accurately identify inappropriate comments of various types?"
      ]
    },
    {
      "cell_type": "code",
      "metadata": {
        "id": "QFsPkJoANoid",
        "colab": {
          "base_uri": "https://localhost:8080/"
        },
        "outputId": "708219c5-e0a4-4e7f-a2f7-53f8af311c9f"
      },
      "source": [
        "#define a list of column names\n",
        "comment_types = ['toxic', 'obscene', 'threat', 'insult', 'identity_hate']\n",
        "\n",
        "#write a 'for' loop that will display the proportion of inappropriate comments in the dataset\n",
        "#that were identified as inappropriate by the API for each comment type\n",
        "\n",
        "for comment_type in comment_types:\n",
        "    proportion = proportion_of_inappropriate_comments_identified(comment_type)\n",
        "    print(comment_type + ': ' + str(proportion))"
      ],
      "execution_count": 33,
      "outputs": [
        {
          "output_type": "stream",
          "name": "stdout",
          "text": [
            "toxic: 0.17391304347826086\n",
            "obscene: 0.6666666666666666\n",
            "threat: 0.0\n",
            "insult: 0.16\n",
            "identity_hate: 0.19230769230769232\n"
          ]
        }
      ]
    },
    {
      "cell_type": "markdown",
      "metadata": {
        "id": "eQvsFrSg1JSy"
      },
      "source": [
        "##End of Lab Assignment 02!"
      ]
    }
  ]
}
